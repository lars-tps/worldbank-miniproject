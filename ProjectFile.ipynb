{
 "cells": [
  {
   "cell_type": "code",
   "execution_count": 1,
   "metadata": {},
   "outputs": [],
   "source": [
    "import numpy as np\n",
    "import pandas as pd\n",
    "import matplotlib.pyplot as plt"
   ]
  },
  {
   "cell_type": "code",
   "execution_count": 1,
   "metadata": {},
   "outputs": [
    {
     "name": "stdout",
     "output_type": "stream",
     "text": [
      "Country.csv\n",
      "CountryNotes.csv\n",
      "Footnotes.csv\n",
      "Indicators.csv\n",
      "Series.csv\n",
      "SeriesNotes.csv\n",
      "database.sqlite\n",
      "hashes.txt\n"
     ]
    }
   ],
   "source": [
    "!ls ./world-development-indicators"
   ]
  },
  {
   "cell_type": "code",
   "execution_count": 8,
   "metadata": {},
   "outputs": [
    {
     "name": "stdout",
     "output_type": "stream",
     "text": [
      "CountryName,CountryCode,IndicatorName,IndicatorCode,Year,Value\n",
      "Arab World,ARB,\"Adolescent fertility rate (births per 1,000 women ages 15-19)\",SP.ADO.TFRT,1960,133.56090740552298\n",
      "Arab World,ARB,Age dependency ratio (% of working-age population),SP.POP.DPND,1960,87.7976011532547\n",
      "Arab World,ARB,\"Age dependency ratio, old (% of working-age population)\",SP.POP.DPND.OL,1960,6.634579191565161\n",
      "Arab World,ARB,\"Age dependency ratio, young (% of working-age population)\",SP.POP.DPND.YG,1960,81.02332950839141\n",
      "Arab World,ARB,Arms exports (SIPRI trend indicator values),MS.MIL.XPRT.KD,1960,3000000.0\n",
      "Arab World,ARB,Arms imports (SIPRI trend indicator values),MS.MIL.MPRT.KD,1960,538000000.0\n",
      "Arab World,ARB,\"Birth rate, crude (per 1,000 people)\",SP.DYN.CBRT.IN,1960,47.697888095096395\n",
      "Arab World,ARB,CO2 emissions (kt),EN.ATM.CO2E.KT,1960,59563.9892169935\n",
      "Arab World,ARB,CO2 emissions (metric tons per capita),EN.ATM.CO2E.PC,1960,0.6439635478877049\n"
     ]
    }
   ],
   "source": [
    "!head ./world-development-indicators/Indicators.csv"
   ]
  },
  {
   "cell_type": "markdown",
   "metadata": {},
   "source": [
    "# import data as dataframe object"
   ]
  },
  {
   "cell_type": "code",
   "execution_count": 2,
   "metadata": {},
   "outputs": [],
   "source": [
    "df = pd.read_csv('./world-development-indicators/Indicators.csv',sep=',')"
   ]
  },
  {
   "cell_type": "code",
   "execution_count": 12,
   "metadata": {
    "collapsed": true
   },
   "outputs": [
    {
     "data": {
      "text/html": [
       "<div>\n",
       "<style scoped>\n",
       "    .dataframe tbody tr th:only-of-type {\n",
       "        vertical-align: middle;\n",
       "    }\n",
       "\n",
       "    .dataframe tbody tr th {\n",
       "        vertical-align: top;\n",
       "    }\n",
       "\n",
       "    .dataframe thead th {\n",
       "        text-align: right;\n",
       "    }\n",
       "</style>\n",
       "<table border=\"1\" class=\"dataframe\">\n",
       "  <thead>\n",
       "    <tr style=\"text-align: right;\">\n",
       "      <th></th>\n",
       "      <th>CountryName</th>\n",
       "      <th>CountryCode</th>\n",
       "      <th>IndicatorName</th>\n",
       "      <th>IndicatorCode</th>\n",
       "      <th>Year</th>\n",
       "      <th>Value</th>\n",
       "    </tr>\n",
       "  </thead>\n",
       "  <tbody>\n",
       "    <tr>\n",
       "      <th>0</th>\n",
       "      <td>Arab World</td>\n",
       "      <td>ARB</td>\n",
       "      <td>Adolescent fertility rate (births per 1,000 wo...</td>\n",
       "      <td>SP.ADO.TFRT</td>\n",
       "      <td>1960</td>\n",
       "      <td>133.560907</td>\n",
       "    </tr>\n",
       "    <tr>\n",
       "      <th>1</th>\n",
       "      <td>Arab World</td>\n",
       "      <td>ARB</td>\n",
       "      <td>Age dependency ratio (% of working-age populat...</td>\n",
       "      <td>SP.POP.DPND</td>\n",
       "      <td>1960</td>\n",
       "      <td>87.797601</td>\n",
       "    </tr>\n",
       "    <tr>\n",
       "      <th>2</th>\n",
       "      <td>Arab World</td>\n",
       "      <td>ARB</td>\n",
       "      <td>Age dependency ratio, old (% of working-age po...</td>\n",
       "      <td>SP.POP.DPND.OL</td>\n",
       "      <td>1960</td>\n",
       "      <td>6.634579</td>\n",
       "    </tr>\n",
       "  </tbody>\n",
       "</table>\n",
       "</div>"
      ],
      "text/plain": [
       "  CountryName CountryCode                                      IndicatorName  \\\n",
       "0  Arab World         ARB  Adolescent fertility rate (births per 1,000 wo...   \n",
       "1  Arab World         ARB  Age dependency ratio (% of working-age populat...   \n",
       "2  Arab World         ARB  Age dependency ratio, old (% of working-age po...   \n",
       "\n",
       "    IndicatorCode  Year       Value  \n",
       "0     SP.ADO.TFRT  1960  133.560907  \n",
       "1     SP.POP.DPND  1960   87.797601  \n",
       "2  SP.POP.DPND.OL  1960    6.634579  "
      ]
     },
     "execution_count": 12,
     "metadata": {},
     "output_type": "execute_result"
    }
   ],
   "source": [
    "df.head(3)"
   ]
  },
  {
   "cell_type": "markdown",
   "metadata": {},
   "source": [
    "# IndicatorName exploration, what indicators are here?"
   ]
  },
  {
   "cell_type": "code",
   "execution_count": 3,
   "metadata": {},
   "outputs": [],
   "source": [
    "# this function allows quick exploration of indicators present in the csv file based on the string of IndicatorName\n",
    "## e.g groupto_firstletter(indicator_series, 'B') or groupto_firstletter(indicator_series, 'Trade')\n",
    "def groupto_firstletter(series, letter):\n",
    "    group = []\n",
    "    lttr = str(letter).lower()\n",
    "    index = 0\n",
    "    for r in series:\n",
    "        if series[index].lower().startswith(lttr):\n",
    "            group.append(r)\n",
    "            index += 1\n",
    "        else:\n",
    "            index += 1\n",
    "    return pd.Series(group)"
   ]
  },
  {
   "cell_type": "code",
   "execution_count": 4,
   "metadata": {},
   "outputs": [],
   "source": [
    "# this function allows easy search of letters or words in IndicatorName\n",
    "def find_indicator(series, criterion):\n",
    "    result = []\n",
    "    str_cri = str(criterion).lower()\n",
    "    index = 0\n",
    "    for r in series:\n",
    "        if str_cri in series[index].lower():\n",
    "            result.append(r)\n",
    "            index += 1\n",
    "        else:\n",
    "            index += 1\n",
    "    return pd.Series(result)"
   ]
  },
  {
   "cell_type": "code",
   "execution_count": 5,
   "metadata": {
    "scrolled": true
   },
   "outputs": [],
   "source": [
    "indicator_series = pd.Series(df.IndicatorName.unique())"
   ]
  },
  {
   "cell_type": "code",
   "execution_count": 242,
   "metadata": {},
   "outputs": [
    {
     "data": {
      "text/plain": [
       "'Gross enrolment ratio, tertiary, both sexes (%)'"
      ]
     },
     "execution_count": 242,
     "metadata": {},
     "output_type": "execute_result"
    }
   ],
   "source": [
    "find_indicator(indicator_series, 'tertiary')[0]"
   ]
  },
  {
   "cell_type": "code",
   "execution_count": 186,
   "metadata": {
    "collapsed": true
   },
   "outputs": [
    {
     "data": {
      "text/plain": [
       "0     Unemployment, youth female (% of female labor ...\n",
       "1     Unemployment, youth male (% of male labor forc...\n",
       "2     Unemployment, youth total (% of total labor fo...\n",
       "3     Unemployment, total (% of total labor force) (...\n",
       "4      Long-term unemployment (% of total unemployment)\n",
       "5     Long-term unemployment, female (% of female un...\n",
       "6     Long-term unemployment, male (% of male unempl...\n",
       "7     Unemployment, female (% of female labor force)...\n",
       "8     Unemployment, male (% of male labor force) (na...\n",
       "9     Unemployment with primary education (% of tota...\n",
       "10    Unemployment with primary education, female (%...\n",
       "11    Unemployment with primary education, male (% o...\n",
       "12    Unemployment with secondary education (% of to...\n",
       "13    Unemployment with secondary education, female ...\n",
       "14    Unemployment with secondary education, male (%...\n",
       "15    Unemployment with tertiary education (% of tot...\n",
       "16    Unemployment with tertiary education, female (...\n",
       "17    Unemployment with tertiary education, male (% ...\n",
       "18       Unemployment, female (% of female labor force)\n",
       "19           Unemployment, male (% of male labor force)\n",
       "20         Unemployment, total (% of total labor force)\n",
       "21    Unemployment, youth female (% of female labor ...\n",
       "22    Unemployment, youth male (% of male labor forc...\n",
       "23    Unemployment, youth total (% of total labor fo...\n",
       "24    Adequacy of unemployment benefits and ALMP (% ...\n",
       "dtype: object"
      ]
     },
     "execution_count": 186,
     "metadata": {},
     "output_type": "execute_result"
    }
   ],
   "source": [
    "find_indicator(indicator_series, 'unemployment')"
   ]
  },
  {
   "cell_type": "markdown",
   "metadata": {},
   "source": [
    "# Further data exploration"
   ]
  },
  {
   "cell_type": "code",
   "execution_count": 235,
   "metadata": {},
   "outputs": [
    {
     "name": "stdout",
     "output_type": "stream",
     "text": [
      "shape = (42, 6), minimum year = 1971, maximum year = 2013, max value = 95.3319625854492\n"
     ]
    }
   ],
   "source": [
    "country_filter = 'USA'\n",
    "indicator_filter = 'Gross enrolment ratio, tertiary, both sexes'\n",
    "\n",
    "mask1 = df['CountryCode'].str.contains(country_filter)\n",
    "mask2 = df['IndicatorName'].str.contains(indicator_filter)\n",
    "\n",
    "stage = df[mask1 & mask2]\n",
    "print(f\"shape = {stage.shape}, minimum year = {min(stage['Year'])}, maximum year = {max(stage['Year'])}, max value = {max(stage['Value'])}\")"
   ]
  },
  {
   "cell_type": "code",
   "execution_count": 237,
   "metadata": {},
   "outputs": [
    {
     "data": {
      "image/png": "[encoded data removed]",
      "text/plain": [
       "<Figure size 432x288 with 1 Axes>"
      ]
     },
     "metadata": {},
     "output_type": "display_data"
    }
   ],
   "source": [
    "plt.plot(stage['Year'],stage['Value'])\n",
    "\n",
    "plt.title(f'{indicator_filter}')\n",
    "plt.xlabel('Year')\n",
    "plt.ylabel(stage['IndicatorName'].iloc[0])\n",
    "\n",
    "plt.axis([1970,2014,0,100])\n",
    "\n",
    "plt.show()"
   ]
  },
  {
   "cell_type": "code",
   "execution_count": 123,
   "metadata": {},
   "outputs": [
    {
     "data": {
      "text/plain": [
       "(11, 6)"
      ]
     },
     "execution_count": 123,
     "metadata": {},
     "output_type": "execute_result"
    }
   ],
   "source": [
    "country_filter = 'USA'\n",
    "indicator_filter = \"Labor force with tertiary education \\(\\% of total\\)\"\n",
    "\n",
    "mask1 = df['CountryCode'].str.contains(country_filter)\n",
    "mask2 = df['IndicatorName'].str.contains(indicator_filter)\n",
    "\n",
    "stage = df[mask1 & mask2]\n",
    "stage.shape"
   ]
  },
  {
   "cell_type": "code",
   "execution_count": 124,
   "metadata": {
    "collapsed": true
   },
   "outputs": [
    {
     "data": {
      "text/html": [
       "<div>\n",
       "<style scoped>\n",
       "    .dataframe tbody tr th:only-of-type {\n",
       "        vertical-align: middle;\n",
       "    }\n",
       "\n",
       "    .dataframe tbody tr th {\n",
       "        vertical-align: top;\n",
       "    }\n",
       "\n",
       "    .dataframe thead th {\n",
       "        text-align: right;\n",
       "    }\n",
       "</style>\n",
       "<table border=\"1\" class=\"dataframe\">\n",
       "  <thead>\n",
       "    <tr style=\"text-align: right;\">\n",
       "      <th></th>\n",
       "      <th>CountryName</th>\n",
       "      <th>CountryCode</th>\n",
       "      <th>IndicatorName</th>\n",
       "      <th>IndicatorCode</th>\n",
       "      <th>Year</th>\n",
       "      <th>Value</th>\n",
       "    </tr>\n",
       "  </thead>\n",
       "  <tbody>\n",
       "    <tr>\n",
       "      <th>2885275</th>\n",
       "      <td>United States</td>\n",
       "      <td>USA</td>\n",
       "      <td>Labor force with tertiary education (% of total)</td>\n",
       "      <td>SL.TLF.TERT.ZS</td>\n",
       "      <td>1997</td>\n",
       "      <td>33.000000</td>\n",
       "    </tr>\n",
       "    <tr>\n",
       "      <th>3022624</th>\n",
       "      <td>United States</td>\n",
       "      <td>USA</td>\n",
       "      <td>Labor force with tertiary education (% of total)</td>\n",
       "      <td>SL.TLF.TERT.ZS</td>\n",
       "      <td>1998</td>\n",
       "      <td>33.799999</td>\n",
       "    </tr>\n",
       "  </tbody>\n",
       "</table>\n",
       "</div>"
      ],
      "text/plain": [
       "           CountryName CountryCode  \\\n",
       "2885275  United States         USA   \n",
       "3022624  United States         USA   \n",
       "\n",
       "                                            IndicatorName   IndicatorCode  \\\n",
       "2885275  Labor force with tertiary education (% of total)  SL.TLF.TERT.ZS   \n",
       "3022624  Labor force with tertiary education (% of total)  SL.TLF.TERT.ZS   \n",
       "\n",
       "         Year      Value  \n",
       "2885275  1997  33.000000  \n",
       "3022624  1998  33.799999  "
      ]
     },
     "execution_count": 124,
     "metadata": {},
     "output_type": "execute_result"
    }
   ],
   "source": [
    "stage.head(2)"
   ]
  },
  {
   "cell_type": "code",
   "execution_count": 128,
   "metadata": {},
   "outputs": [
    {
     "name": "stdout",
     "output_type": "stream",
     "text": [
      "1997 to 2014, values: 30.899999618530305 to 35.7000007629395\n"
     ]
    }
   ],
   "source": [
    "print(f\"{min(stage['Year'])} to {max(stage['Year'])}, values: {min(stage['Value'])} to {max(stage['Value'])}\")"
   ]
  },
  {
   "cell_type": "code",
   "execution_count": 127,
   "metadata": {},
   "outputs": [
    {
     "data": {
      "image/png": "[encoded data removed]",
      "text/plain": [
       "<Figure size 432x288 with 1 Axes>"
      ]
     },
     "metadata": {},
     "output_type": "display_data"
    }
   ],
   "source": [
    "plt.plot(stage['Year'],stage['Value'])\n",
    "\n",
    "plt.title(f'{country_filter} - {stage[\"IndicatorName\"].iloc[0]}')\n",
    "plt.xlabel('Year')\n",
    "plt.ylabel(stage['IndicatorName'].iloc[0])\n",
    "\n",
    "plt.axis([1997,2014,0,40])\n",
    "\n",
    "plt.show()"
   ]
  },
  {
   "cell_type": "code",
   "execution_count": 140,
   "metadata": {},
   "outputs": [
    {
     "name": "stdout",
     "output_type": "stream",
     "text": [
      "shape = (21, 6), minimum year = 1994, maximum year = 2014, max value = 47.2999992370605\n"
     ]
    }
   ],
   "source": [
    "country_filter = 'USA'\n",
    "indicator_filter = 'Unemployment with tertiary education \\(\\% of total unemployment\\)'\n",
    "\n",
    "mask1 = df['CountryCode'].str.contains(country_filter)\n",
    "mask2 = df['IndicatorName'].str.contains(indicator_filter)\n",
    "\n",
    "stage = df[mask1 & mask2]\n",
    "print(f\"shape = {stage.shape}, minimum year = {min(stage['Year'])}, maximum year = {max(stage['Year'])}, max value = {max(stage['Value'])}\")"
   ]
  },
  {
   "cell_type": "code",
   "execution_count": 141,
   "metadata": {
    "collapsed": true
   },
   "outputs": [
    {
     "data": {
      "text/html": [
       "<div>\n",
       "<style scoped>\n",
       "    .dataframe tbody tr th:only-of-type {\n",
       "        vertical-align: middle;\n",
       "    }\n",
       "\n",
       "    .dataframe tbody tr th {\n",
       "        vertical-align: top;\n",
       "    }\n",
       "\n",
       "    .dataframe thead th {\n",
       "        text-align: right;\n",
       "    }\n",
       "</style>\n",
       "<table border=\"1\" class=\"dataframe\">\n",
       "  <thead>\n",
       "    <tr style=\"text-align: right;\">\n",
       "      <th></th>\n",
       "      <th>CountryName</th>\n",
       "      <th>CountryCode</th>\n",
       "      <th>IndicatorName</th>\n",
       "      <th>IndicatorCode</th>\n",
       "      <th>Year</th>\n",
       "      <th>Value</th>\n",
       "    </tr>\n",
       "  </thead>\n",
       "  <tbody>\n",
       "    <tr>\n",
       "      <th>2479846</th>\n",
       "      <td>United States</td>\n",
       "      <td>USA</td>\n",
       "      <td>Unemployment with tertiary education (% of tot...</td>\n",
       "      <td>SL.UEM.TERT.ZS</td>\n",
       "      <td>1994</td>\n",
       "      <td>39.799999</td>\n",
       "    </tr>\n",
       "    <tr>\n",
       "      <th>2614213</th>\n",
       "      <td>United States</td>\n",
       "      <td>USA</td>\n",
       "      <td>Unemployment with tertiary education (% of tot...</td>\n",
       "      <td>SL.UEM.TERT.ZS</td>\n",
       "      <td>1995</td>\n",
       "      <td>41.299999</td>\n",
       "    </tr>\n",
       "  </tbody>\n",
       "</table>\n",
       "</div>"
      ],
      "text/plain": [
       "           CountryName CountryCode  \\\n",
       "2479846  United States         USA   \n",
       "2614213  United States         USA   \n",
       "\n",
       "                                             IndicatorName   IndicatorCode  \\\n",
       "2479846  Unemployment with tertiary education (% of tot...  SL.UEM.TERT.ZS   \n",
       "2614213  Unemployment with tertiary education (% of tot...  SL.UEM.TERT.ZS   \n",
       "\n",
       "         Year      Value  \n",
       "2479846  1994  39.799999  \n",
       "2614213  1995  41.299999  "
      ]
     },
     "execution_count": 141,
     "metadata": {},
     "output_type": "execute_result"
    }
   ],
   "source": [
    "stage.head(2)"
   ]
  },
  {
   "cell_type": "code",
   "execution_count": 146,
   "metadata": {},
   "outputs": [
    {
     "data": {
      "image/png": "[encoded data removed]",
      "text/plain": [
       "<Figure size 432x288 with 1 Axes>"
      ]
     },
     "metadata": {},
     "output_type": "display_data"
    }
   ],
   "source": [
    "plt.plot(stage['Year'],stage['Value'])\n",
    "\n",
    "plt.title(f'{country_filter} - {stage[\"IndicatorName\"].iloc[0]}')\n",
    "plt.xlabel('Year')\n",
    "plt.ylabel(stage['IndicatorName'].iloc[0])\n",
    "\n",
    "plt.axis([1990,2015,0,50])\n",
    "\n",
    "plt.show()"
   ]
  },
  {
   "cell_type": "code",
   "execution_count": 222,
   "metadata": {},
   "outputs": [
    {
     "name": "stdout",
     "output_type": "stream",
     "text": [
      "shape = (24, 6), minimum year = 1991, maximum year = 2014, max value = 9.69999980926514\n"
     ]
    }
   ],
   "source": [
    "country_filter = 'USA'\n",
    "indicator_filter = 'Unemployment, total (% of total labor force)'\n",
    "\n",
    "mask1 = df['CountryCode'].str.contains(country_filter)\n",
    "mask2 = df['IndicatorName'] == indicator_filter\n",
    "\n",
    "stage = df[mask1 & mask2]\n",
    "print(f\"shape = {stage.shape}, minimum year = {min(stage['Year'])}, maximum year = {max(stage['Year'])}, max value = {max(stage['Value'])}\")"
   ]
  },
  {
   "cell_type": "code",
   "execution_count": 224,
   "metadata": {
    "collapsed": true
   },
   "outputs": [
    {
     "data": {
      "text/html": [
       "<div>\n",
       "<style scoped>\n",
       "    .dataframe tbody tr th:only-of-type {\n",
       "        vertical-align: middle;\n",
       "    }\n",
       "\n",
       "    .dataframe tbody tr th {\n",
       "        vertical-align: top;\n",
       "    }\n",
       "\n",
       "    .dataframe thead th {\n",
       "        text-align: right;\n",
       "    }\n",
       "</style>\n",
       "<table border=\"1\" class=\"dataframe\">\n",
       "  <thead>\n",
       "    <tr style=\"text-align: right;\">\n",
       "      <th></th>\n",
       "      <th>CountryName</th>\n",
       "      <th>CountryCode</th>\n",
       "      <th>IndicatorName</th>\n",
       "      <th>IndicatorCode</th>\n",
       "      <th>Year</th>\n",
       "      <th>Value</th>\n",
       "    </tr>\n",
       "  </thead>\n",
       "  <tbody>\n",
       "    <tr>\n",
       "      <th>2109164</th>\n",
       "      <td>United States</td>\n",
       "      <td>USA</td>\n",
       "      <td>Unemployment, total (% of total labor force)</td>\n",
       "      <td>SL.UEM.TOTL.ZS</td>\n",
       "      <td>1991</td>\n",
       "      <td>6.9</td>\n",
       "    </tr>\n",
       "    <tr>\n",
       "      <th>2230412</th>\n",
       "      <td>United States</td>\n",
       "      <td>USA</td>\n",
       "      <td>Unemployment, total (% of total labor force)</td>\n",
       "      <td>SL.UEM.TOTL.ZS</td>\n",
       "      <td>1992</td>\n",
       "      <td>7.6</td>\n",
       "    </tr>\n",
       "    <tr>\n",
       "      <th>2354187</th>\n",
       "      <td>United States</td>\n",
       "      <td>USA</td>\n",
       "      <td>Unemployment, total (% of total labor force)</td>\n",
       "      <td>SL.UEM.TOTL.ZS</td>\n",
       "      <td>1993</td>\n",
       "      <td>7.0</td>\n",
       "    </tr>\n",
       "    <tr>\n",
       "      <th>2479853</th>\n",
       "      <td>United States</td>\n",
       "      <td>USA</td>\n",
       "      <td>Unemployment, total (% of total labor force)</td>\n",
       "      <td>SL.UEM.TOTL.ZS</td>\n",
       "      <td>1994</td>\n",
       "      <td>6.2</td>\n",
       "    </tr>\n",
       "    <tr>\n",
       "      <th>2614220</th>\n",
       "      <td>United States</td>\n",
       "      <td>USA</td>\n",
       "      <td>Unemployment, total (% of total labor force)</td>\n",
       "      <td>SL.UEM.TOTL.ZS</td>\n",
       "      <td>1995</td>\n",
       "      <td>5.7</td>\n",
       "    </tr>\n",
       "  </tbody>\n",
       "</table>\n",
       "</div>"
      ],
      "text/plain": [
       "           CountryName CountryCode  \\\n",
       "2109164  United States         USA   \n",
       "2230412  United States         USA   \n",
       "2354187  United States         USA   \n",
       "2479853  United States         USA   \n",
       "2614220  United States         USA   \n",
       "\n",
       "                                        IndicatorName   IndicatorCode  Year  \\\n",
       "2109164  Unemployment, total (% of total labor force)  SL.UEM.TOTL.ZS  1991   \n",
       "2230412  Unemployment, total (% of total labor force)  SL.UEM.TOTL.ZS  1992   \n",
       "2354187  Unemployment, total (% of total labor force)  SL.UEM.TOTL.ZS  1993   \n",
       "2479853  Unemployment, total (% of total labor force)  SL.UEM.TOTL.ZS  1994   \n",
       "2614220  Unemployment, total (% of total labor force)  SL.UEM.TOTL.ZS  1995   \n",
       "\n",
       "         Value  \n",
       "2109164    6.9  \n",
       "2230412    7.6  \n",
       "2354187    7.0  \n",
       "2479853    6.2  \n",
       "2614220    5.7  "
      ]
     },
     "execution_count": 224,
     "metadata": {},
     "output_type": "execute_result"
    }
   ],
   "source": [
    "stage.head(5)"
   ]
  },
  {
   "cell_type": "code",
   "execution_count": 226,
   "metadata": {},
   "outputs": [
    {
     "data": {
      "image/png": "[encoded data removed]",
      "text/plain": [
       "<Figure size 432x288 with 1 Axes>"
      ]
     },
     "metadata": {},
     "output_type": "display_data"
    }
   ],
   "source": [
    "plt.plot(stage['Year'],stage['Value'])\n",
    "\n",
    "plt.title(f'{country_filter} - {stage[\"IndicatorName\"].iloc[0]}')\n",
    "plt.xlabel('Year')\n",
    "plt.ylabel(stage['IndicatorName'].iloc[0])\n",
    "\n",
    "plt.axis([1991,2014,0,10])\n",
    "\n",
    "plt.show()"
   ]
  },
  {
   "cell_type": "markdown",
   "metadata": {},
   "source": [
    "## Scatter plot"
   ]
  },
  {
   "cell_type": "code",
   "execution_count": 318,
   "metadata": {},
   "outputs": [
    {
     "data": {
      "text/plain": [
       "(23, 6)"
      ]
     },
     "execution_count": 318,
     "metadata": {},
     "output_type": "execute_result"
    }
   ],
   "source": [
    "country_filter = \"USA\"\n",
    "indicator_filter = \"Unemployment, total (% of total labor force)\"\n",
    "\n",
    "mask1 = df['CountryCode'] == country_filter\n",
    "mask2 = df['IndicatorName'] == indicator_filter\n",
    "mask3 = df['Year'].between(1990,2014,inclusive=False)\n",
    "\n",
    "unemployment_stage = df[mask1 & mask2 & mask3]\n",
    "unemployment_stage.shape"
   ]
  },
  {
   "cell_type": "code",
   "execution_count": 319,
   "metadata": {},
   "outputs": [
    {
     "data": {
      "text/plain": [
       "(22, 6)"
      ]
     },
     "execution_count": 319,
     "metadata": {},
     "output_type": "execute_result"
    }
   ],
   "source": [
    "country_filter = \"USA\"\n",
    "indicator_filter = \"Gross enrolment ratio, tertiary, both sexes (%)\"\n",
    "\n",
    "mask1 = df['CountryCode'] == country_filter\n",
    "mask2 = df['IndicatorName'] == indicator_filter\n",
    "mask3 = df['Year'].between(1990,2014,inclusive=False)\n",
    "\n",
    "enrolment_stage = df[mask1 & mask2 & mask3]\n",
    "enrolment_stage.shape"
   ]
  },
  {
   "cell_type": "code",
   "execution_count": 315,
   "metadata": {},
   "outputs": [
    {
     "name": "stdout",
     "output_type": "stream",
     "text": [
      "unemployment min year = 1991\n",
      "unemployment max year = 2014\n",
      "enrolment min year = 1971\n",
      "enrolment max year = 2013\n"
     ]
    }
   ],
   "source": [
    "print(f\"unemployment min year = {min(unemployment_stage['Year'])}\")\n",
    "print(f\"unemployment max year = {max(unemployment_stage['Year'])}\")\n",
    "print(f\"enrolment min year = {min(enrolment_stage['Year'])}\")\n",
    "print(f\"enrolment max year = {max(enrolment_stage['Year'])}\")"
   ]
  },
  {
   "cell_type": "code",
   "execution_count": 382,
   "metadata": {},
   "outputs": [
    {
     "data": {
      "text/plain": [
       "2885477"
      ]
     },
     "execution_count": 382,
     "metadata": {},
     "output_type": "execute_result"
    }
   ],
   "source": [
    "booleans = []\n",
    "index = 0\n",
    "for r in unemployment_stage['Year'].tolist():\n",
    "    if r not in enrolment_stage['Year'].tolist():\n",
    "        booleans.append(True)\n",
    "        index += 1\n",
    "    else:\n",
    "        booleans.append(False)\n",
    "        index += 1\n",
    "\n",
    "\n",
    "unemployment_stage.loc[booleans].index.item()"
   ]
  },
  {
   "cell_type": "code",
   "execution_count": 393,
   "metadata": {},
   "outputs": [
    {
     "name": "stderr",
     "output_type": "stream",
     "text": [
      "C:\\ProgramData\\Anaconda3\\lib\\site-packages\\pandas\\core\\frame.py:3694: SettingWithCopyWarning: \n",
      "A value is trying to be set on a copy of a slice from a DataFrame\n",
      "\n",
      "See the caveats in the documentation: http://pandas.pydata.org/pandas-docs/stable/indexing.html#indexing-view-versus-copy\n",
      "  errors=errors)\n"
     ]
    },
    {
     "data": {
      "text/plain": [
       "22"
      ]
     },
     "execution_count": 393,
     "metadata": {},
     "output_type": "execute_result"
    }
   ],
   "source": [
    "unemployment_stage.drop(index=unemployment_stage.loc[booleans].index.item(), inplace=True)\n",
    "len(unemployment_stage)"
   ]
  },
  {
   "cell_type": "code",
   "execution_count": 406,
   "metadata": {},
   "outputs": [
    {
     "data": {
      "text/html": [
       "<div>\n",
       "<style scoped>\n",
       "    .dataframe tbody tr th:only-of-type {\n",
       "        vertical-align: middle;\n",
       "    }\n",
       "\n",
       "    .dataframe tbody tr th {\n",
       "        vertical-align: top;\n",
       "    }\n",
       "\n",
       "    .dataframe thead th {\n",
       "        text-align: right;\n",
       "    }\n",
       "</style>\n",
       "<table border=\"1\" class=\"dataframe\">\n",
       "  <thead>\n",
       "    <tr style=\"text-align: right;\">\n",
       "      <th></th>\n",
       "      <th>CountryName</th>\n",
       "      <th>CountryCode</th>\n",
       "      <th>IndicatorName</th>\n",
       "      <th>IndicatorCode</th>\n",
       "      <th>Year</th>\n",
       "      <th>Value</th>\n",
       "    </tr>\n",
       "  </thead>\n",
       "  <tbody>\n",
       "    <tr>\n",
       "      <th>2109164</th>\n",
       "      <td>United States</td>\n",
       "      <td>USA</td>\n",
       "      <td>Unemployment, total (% of total labor force)</td>\n",
       "      <td>SL.UEM.TOTL.ZS</td>\n",
       "      <td>1991</td>\n",
       "      <td>6.9</td>\n",
       "    </tr>\n",
       "    <tr>\n",
       "      <th>2230412</th>\n",
       "      <td>United States</td>\n",
       "      <td>USA</td>\n",
       "      <td>Unemployment, total (% of total labor force)</td>\n",
       "      <td>SL.UEM.TOTL.ZS</td>\n",
       "      <td>1992</td>\n",
       "      <td>7.6</td>\n",
       "    </tr>\n",
       "    <tr>\n",
       "      <th>2354187</th>\n",
       "      <td>United States</td>\n",
       "      <td>USA</td>\n",
       "      <td>Unemployment, total (% of total labor force)</td>\n",
       "      <td>SL.UEM.TOTL.ZS</td>\n",
       "      <td>1993</td>\n",
       "      <td>7.0</td>\n",
       "    </tr>\n",
       "    <tr>\n",
       "      <th>2479853</th>\n",
       "      <td>United States</td>\n",
       "      <td>USA</td>\n",
       "      <td>Unemployment, total (% of total labor force)</td>\n",
       "      <td>SL.UEM.TOTL.ZS</td>\n",
       "      <td>1994</td>\n",
       "      <td>6.2</td>\n",
       "    </tr>\n",
       "    <tr>\n",
       "      <th>2614220</th>\n",
       "      <td>United States</td>\n",
       "      <td>USA</td>\n",
       "      <td>Unemployment, total (% of total labor force)</td>\n",
       "      <td>SL.UEM.TOTL.ZS</td>\n",
       "      <td>1995</td>\n",
       "      <td>5.7</td>\n",
       "    </tr>\n",
       "    <tr>\n",
       "      <th>2749180</th>\n",
       "      <td>United States</td>\n",
       "      <td>USA</td>\n",
       "      <td>Unemployment, total (% of total labor force)</td>\n",
       "      <td>SL.UEM.TOTL.ZS</td>\n",
       "      <td>1996</td>\n",
       "      <td>5.5</td>\n",
       "    </tr>\n",
       "    <tr>\n",
       "      <th>3022836</th>\n",
       "      <td>United States</td>\n",
       "      <td>USA</td>\n",
       "      <td>Unemployment, total (% of total labor force)</td>\n",
       "      <td>SL.UEM.TOTL.ZS</td>\n",
       "      <td>1998</td>\n",
       "      <td>4.6</td>\n",
       "    </tr>\n",
       "    <tr>\n",
       "      <th>3164767</th>\n",
       "      <td>United States</td>\n",
       "      <td>USA</td>\n",
       "      <td>Unemployment, total (% of total labor force)</td>\n",
       "      <td>SL.UEM.TOTL.ZS</td>\n",
       "      <td>1999</td>\n",
       "      <td>4.3</td>\n",
       "    </tr>\n",
       "    <tr>\n",
       "      <th>3319449</th>\n",
       "      <td>United States</td>\n",
       "      <td>USA</td>\n",
       "      <td>Unemployment, total (% of total labor force)</td>\n",
       "      <td>SL.UEM.TOTL.ZS</td>\n",
       "      <td>2000</td>\n",
       "      <td>4.1</td>\n",
       "    </tr>\n",
       "    <tr>\n",
       "      <th>3470109</th>\n",
       "      <td>United States</td>\n",
       "      <td>USA</td>\n",
       "      <td>Unemployment, total (% of total labor force)</td>\n",
       "      <td>SL.UEM.TOTL.ZS</td>\n",
       "      <td>2001</td>\n",
       "      <td>4.8</td>\n",
       "    </tr>\n",
       "    <tr>\n",
       "      <th>3624754</th>\n",
       "      <td>United States</td>\n",
       "      <td>USA</td>\n",
       "      <td>Unemployment, total (% of total labor force)</td>\n",
       "      <td>SL.UEM.TOTL.ZS</td>\n",
       "      <td>2002</td>\n",
       "      <td>5.9</td>\n",
       "    </tr>\n",
       "    <tr>\n",
       "      <th>3778498</th>\n",
       "      <td>United States</td>\n",
       "      <td>USA</td>\n",
       "      <td>Unemployment, total (% of total labor force)</td>\n",
       "      <td>SL.UEM.TOTL.ZS</td>\n",
       "      <td>2003</td>\n",
       "      <td>6.1</td>\n",
       "    </tr>\n",
       "    <tr>\n",
       "      <th>3936257</th>\n",
       "      <td>United States</td>\n",
       "      <td>USA</td>\n",
       "      <td>Unemployment, total (% of total labor force)</td>\n",
       "      <td>SL.UEM.TOTL.ZS</td>\n",
       "      <td>2004</td>\n",
       "      <td>5.6</td>\n",
       "    </tr>\n",
       "    <tr>\n",
       "      <th>4115939</th>\n",
       "      <td>United States</td>\n",
       "      <td>USA</td>\n",
       "      <td>Unemployment, total (% of total labor force)</td>\n",
       "      <td>SL.UEM.TOTL.ZS</td>\n",
       "      <td>2005</td>\n",
       "      <td>5.2</td>\n",
       "    </tr>\n",
       "    <tr>\n",
       "      <th>4293102</th>\n",
       "      <td>United States</td>\n",
       "      <td>USA</td>\n",
       "      <td>Unemployment, total (% of total labor force)</td>\n",
       "      <td>SL.UEM.TOTL.ZS</td>\n",
       "      <td>2006</td>\n",
       "      <td>4.7</td>\n",
       "    </tr>\n",
       "    <tr>\n",
       "      <th>4473443</th>\n",
       "      <td>United States</td>\n",
       "      <td>USA</td>\n",
       "      <td>Unemployment, total (% of total labor force)</td>\n",
       "      <td>SL.UEM.TOTL.ZS</td>\n",
       "      <td>2007</td>\n",
       "      <td>4.7</td>\n",
       "    </tr>\n",
       "    <tr>\n",
       "      <th>4653279</th>\n",
       "      <td>United States</td>\n",
       "      <td>USA</td>\n",
       "      <td>Unemployment, total (% of total labor force)</td>\n",
       "      <td>SL.UEM.TOTL.ZS</td>\n",
       "      <td>2008</td>\n",
       "      <td>5.9</td>\n",
       "    </tr>\n",
       "    <tr>\n",
       "      <th>4831939</th>\n",
       "      <td>United States</td>\n",
       "      <td>USA</td>\n",
       "      <td>Unemployment, total (% of total labor force)</td>\n",
       "      <td>SL.UEM.TOTL.ZS</td>\n",
       "      <td>2009</td>\n",
       "      <td>9.4</td>\n",
       "    </tr>\n",
       "    <tr>\n",
       "      <th>5018679</th>\n",
       "      <td>United States</td>\n",
       "      <td>USA</td>\n",
       "      <td>Unemployment, total (% of total labor force)</td>\n",
       "      <td>SL.UEM.TOTL.ZS</td>\n",
       "      <td>2010</td>\n",
       "      <td>9.7</td>\n",
       "    </tr>\n",
       "    <tr>\n",
       "      <th>5195311</th>\n",
       "      <td>United States</td>\n",
       "      <td>USA</td>\n",
       "      <td>Unemployment, total (% of total labor force)</td>\n",
       "      <td>SL.UEM.TOTL.ZS</td>\n",
       "      <td>2011</td>\n",
       "      <td>9.0</td>\n",
       "    </tr>\n",
       "    <tr>\n",
       "      <th>5370483</th>\n",
       "      <td>United States</td>\n",
       "      <td>USA</td>\n",
       "      <td>Unemployment, total (% of total labor force)</td>\n",
       "      <td>SL.UEM.TOTL.ZS</td>\n",
       "      <td>2012</td>\n",
       "      <td>8.2</td>\n",
       "    </tr>\n",
       "    <tr>\n",
       "      <th>5527881</th>\n",
       "      <td>United States</td>\n",
       "      <td>USA</td>\n",
       "      <td>Unemployment, total (% of total labor force)</td>\n",
       "      <td>SL.UEM.TOTL.ZS</td>\n",
       "      <td>2013</td>\n",
       "      <td>7.4</td>\n",
       "    </tr>\n",
       "  </tbody>\n",
       "</table>\n",
       "</div>"
      ],
      "text/plain": [
       "           CountryName CountryCode  \\\n",
       "2109164  United States         USA   \n",
       "2230412  United States         USA   \n",
       "2354187  United States         USA   \n",
       "2479853  United States         USA   \n",
       "2614220  United States         USA   \n",
       "2749180  United States         USA   \n",
       "3022836  United States         USA   \n",
       "3164767  United States         USA   \n",
       "3319449  United States         USA   \n",
       "3470109  United States         USA   \n",
       "3624754  United States         USA   \n",
       "3778498  United States         USA   \n",
       "3936257  United States         USA   \n",
       "4115939  United States         USA   \n",
       "4293102  United States         USA   \n",
       "4473443  United States         USA   \n",
       "4653279  United States         USA   \n",
       "4831939  United States         USA   \n",
       "5018679  United States         USA   \n",
       "5195311  United States         USA   \n",
       "5370483  United States         USA   \n",
       "5527881  United States         USA   \n",
       "\n",
       "                                        IndicatorName   IndicatorCode  Year  \\\n",
       "2109164  Unemployment, total (% of total labor force)  SL.UEM.TOTL.ZS  1991   \n",
       "2230412  Unemployment, total (% of total labor force)  SL.UEM.TOTL.ZS  1992   \n",
       "2354187  Unemployment, total (% of total labor force)  SL.UEM.TOTL.ZS  1993   \n",
       "2479853  Unemployment, total (% of total labor force)  SL.UEM.TOTL.ZS  1994   \n",
       "2614220  Unemployment, total (% of total labor force)  SL.UEM.TOTL.ZS  1995   \n",
       "2749180  Unemployment, total (% of total labor force)  SL.UEM.TOTL.ZS  1996   \n",
       "3022836  Unemployment, total (% of total labor force)  SL.UEM.TOTL.ZS  1998   \n",
       "3164767  Unemployment, total (% of total labor force)  SL.UEM.TOTL.ZS  1999   \n",
       "3319449  Unemployment, total (% of total labor force)  SL.UEM.TOTL.ZS  2000   \n",
       "3470109  Unemployment, total (% of total labor force)  SL.UEM.TOTL.ZS  2001   \n",
       "3624754  Unemployment, total (% of total labor force)  SL.UEM.TOTL.ZS  2002   \n",
       "3778498  Unemployment, total (% of total labor force)  SL.UEM.TOTL.ZS  2003   \n",
       "3936257  Unemployment, total (% of total labor force)  SL.UEM.TOTL.ZS  2004   \n",
       "4115939  Unemployment, total (% of total labor force)  SL.UEM.TOTL.ZS  2005   \n",
       "4293102  Unemployment, total (% of total labor force)  SL.UEM.TOTL.ZS  2006   \n",
       "4473443  Unemployment, total (% of total labor force)  SL.UEM.TOTL.ZS  2007   \n",
       "4653279  Unemployment, total (% of total labor force)  SL.UEM.TOTL.ZS  2008   \n",
       "4831939  Unemployment, total (% of total labor force)  SL.UEM.TOTL.ZS  2009   \n",
       "5018679  Unemployment, total (% of total labor force)  SL.UEM.TOTL.ZS  2010   \n",
       "5195311  Unemployment, total (% of total labor force)  SL.UEM.TOTL.ZS  2011   \n",
       "5370483  Unemployment, total (% of total labor force)  SL.UEM.TOTL.ZS  2012   \n",
       "5527881  Unemployment, total (% of total labor force)  SL.UEM.TOTL.ZS  2013   \n",
       "\n",
       "         Value  \n",
       "2109164    6.9  \n",
       "2230412    7.6  \n",
       "2354187    7.0  \n",
       "2479853    6.2  \n",
       "2614220    5.7  \n",
       "2749180    5.5  \n",
       "3022836    4.6  \n",
       "3164767    4.3  \n",
       "3319449    4.1  \n",
       "3470109    4.8  \n",
       "3624754    5.9  \n",
       "3778498    6.1  \n",
       "3936257    5.6  \n",
       "4115939    5.2  \n",
       "4293102    4.7  \n",
       "4473443    4.7  \n",
       "4653279    5.9  \n",
       "4831939    9.4  \n",
       "5018679    9.7  \n",
       "5195311    9.0  \n",
       "5370483    8.2  \n",
       "5527881    7.4  "
      ]
     },
     "execution_count": 406,
     "metadata": {},
     "output_type": "execute_result"
    }
   ],
   "source": [
    "unemployment_stage"
   ]
  },
  {
   "cell_type": "code",
   "execution_count": 399,
   "metadata": {},
   "outputs": [
    {
     "data": {
      "image/png": "[encoded data removed]",
      "text/plain": [
       "<Figure size 432x288 with 1 Axes>"
      ]
     },
     "metadata": {},
     "output_type": "display_data"
    }
   ],
   "source": [
    "fig, axis = plt.subplots()\n",
    "\n",
    "X = unemployment_stage['Value']\n",
    "Y = enrolment_stage['Value']\n",
    "\n",
    "axis.yaxis.grid(True)\n",
    "axis.set_title('Enrolment in Tertiary Education vs. Unemployment',fontsize=10)\n",
    "axis.set_xlabel(unemployment_stage['IndicatorName'].iloc[0],fontsize=10)\n",
    "axis.set_ylabel(enrolment_stage['IndicatorName'].iloc[0],fontsize=10)\n",
    "\n",
    "axis.scatter(X, Y)\n",
    "plt.show()"
   ]
  },
  {
   "cell_type": "code",
   "execution_count": 402,
   "metadata": {},
   "outputs": [
    {
     "data": {
      "text/plain": [
       "array([[1.        , 0.76060106],\n",
       "       [0.76060106, 1.        ]])"
      ]
     },
     "execution_count": 402,
     "metadata": {},
     "output_type": "execute_result"
    }
   ],
   "source": [
    "np.corrcoef(unemployment_stage['Value'], enrolment_stage['Value'])"
   ]
  },
  {
   "cell_type": "markdown",
   "metadata": {},
   "source": [
    "With a correlation coefficient of 0.76 out of 1, I think there is a positive correlation between unemloyment and enrolment in tertiary education."
   ]
  },
  {
   "cell_type": "code",
   "execution_count": null,
   "metadata": {},
   "outputs": [],
   "source": []
  }
 ],
 "metadata": {
  "kernelspec": {
   "display_name": "Python 3",
   "language": "python",
   "name": "python3"
  },
  "language_info": {
   "codemirror_mode": {
    "name": "ipython",
    "version": 3
   },
   "file_extension": ".py",
   "mimetype": "text/x-python",
   "name": "python",
   "nbconvert_exporter": "python",
   "pygments_lexer": "ipython3",
   "version": "3.6.5"
  }
 },
 "nbformat": 4,
 "nbformat_minor": 2
}
